import csv
import datetime


class Pizza:
    def __init__(self, name, price):
        self.name = name
        self.price = price

    def get_description(self):
        return self.name

    def get_cost(self):
        return self.price


class Margherita(Pizza):
    def __init__(self):
        super().__init__("Margherita", 10.99)


class Pepperoni(Pizza):
    def __init__(self):
        super().__init__("Pepperoni", 12.99)


class Veggie(Pizza):
    def __init__(self):
        super().__init__("Veggie", 11.99)


class MeatLovers(Pizza):
    def __init__(self):
        super().__init__("Meat Lovers", 13.99)


class Decorator(Pizza):
    def __init__(self, pizza, name, price):
        self.pizza = pizza
        self.name = name
        self.price = price

    def get_description(self):
        return f"{self.pizza.get_description()}, {self.name}"

    def get_cost(self):
        return self.pizza.get_cost() + self.price


class Topping:
    def __init__(self, name, price):
        self.name = name
        self.price = price


# create the pizza options
pizza_options = [Margherita(), Pepperoni(), Veggie(), MeatLovers()]

# create the topping options
topping_options = [Topping("Mushrooms", 0.5),
                   Topping("Olives", 0.5),
                   Topping("Onions", 0.5),
                   Topping("Peppers", 0.5),
                   Topping("Extra Cheese", 0.75),
                   Topping("Bacon", 1.0)]

# get the pizza order
print("Please select a pizza:")
for index, pizza in enumerate(pizza_options):
    print(f"{index + 1}. {pizza.get_description()} (${pizza.get_cost()})")
pizza_choice = int(input("Enter the number of the pizza you want: "))
selected_pizza = pizza_options[pizza_choice - 1]
pizza_price = selected_pizza.get_cost()

# get the topping order
print("Please select toppings (separated by commas):")
for index, topping in enumerate(topping_options):
    print(f"{index + 1}. {topping.name} (${topping.price})")
topping_choices = input("Enter the numbers of the toppings you want: ").split(",")
selected_toppings = []
topping_price = 0
for topping_choice in topping_choices:
    topping_choice = int(topping_choice.strip())
    selected_topping = topping_options[topping_choice - 1]
    selected_toppings.append(selected_topping)
    selected_pizza = Decorator(selected_pizza, selected_topping.name, selected_topping.price)
    topping_price += selected_topping.price

# calculate the total price
total_price = selected_pizza.get_cost()

# show the order summary
toppings_val = ", ".join([topping.name for topping in selected_toppings])
print(f"You ordered a {selected_pizza.get_description()} pizza with {toppings_val}, for a total of ${total_price:.2f}")

# prompt for payment with credit card information and save to CSV file
print("Please enter your credit card information to complete your order:")
name = input("Name: ")
id_number = input("ID Number: ")
card_number = input("Credit Card Number: ")
card_password = input("Credit Card Password: ")

# get the order time
order_time = datetime.datetime.now().strftime("%Y-%m-%d %H:%M:%S")

# insert the order into the CSV file
with open("Orders_Database.csv", "a", newline="") as file:
    writer = csv.writer(file)
    writer.writerow([selected_pizza, toppings_val, total_price, name, id_number, card_number, card_password, order_time])

# close the file
file.close()
